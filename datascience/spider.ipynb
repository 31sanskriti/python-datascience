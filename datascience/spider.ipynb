{
 "cells": [
  {
   "cell_type": "code",
   "execution_count": 1,
   "metadata": {},
   "outputs": [
    {
     "name": "stdout",
     "output_type": "stream",
     "text": [
      "200\n"
     ]
    }
   ],
   "source": [
    "import requests\n",
    "from bs4 import BeautifulSoup\n",
    "\n",
    "addr= \"https://www.ndtv.com/latest\"\n",
    "page = requests.get(addr)\n",
    "print(page.status_code)"
   ]
  },
  {
   "cell_type": "code",
   "execution_count": 2,
   "metadata": {},
   "outputs": [],
   "source": [
    "soup = BeautifulSoup(page.text)"
   ]
  },
  {
   "cell_type": "code",
   "execution_count": 3,
   "metadata": {},
   "outputs": [
    {
     "name": "stdout",
     "output_type": "stream",
     "text": [
      "target found\n"
     ]
    }
   ],
   "source": [
    "target = soup.find('div', attrs={'class':'lisingNews'})\n",
    "if target is not None :\n",
    "    print('target found') \n",
    "else:\n",
    "    print('could not find targetted area')"
   ]
  },
  {
   "cell_type": "code",
   "execution_count": 4,
   "metadata": {},
   "outputs": [
    {
     "name": "stdout",
     "output_type": "stream",
     "text": [
      "Video: UP Cop Slaps Man Who Complained Of Missing Niece, TransferredAsian News International   | Sunday September 18, 2022, Baghpat, Uttar Pradesh                                                        \n",
      "                                                        A Police Inspector in charge of Binauli Police Station in Baghpat in Uttar Pradesh was transferred and a departmental inquiry was initiated against him after a video went viral on social media where he is allegedly seen slapping a man on Saturday.Watch: Mantis Tries To Cheer Up A Dog, Internet Says \"Coolest Insect Ever\"\n",
      "\t\t\t\t\t\t\t\t\t\t\t\t\t\t\tEdited by Diksha Rani  | Sunday September 18, 2022                                                        \n",
      "                                                        A video is going viral on the internet shows an insect performing adorable antic to make an upset fog feel good.Dharmendra Pradhan Calls For Emphasis On All Indian languages, Knowledge Systems\n",
      "\t\t\t\t\t\t\t\t\t\t\t\t\t\t\tEdited by Arpita Das  | Sunday September 18, 2022                                                        \n",
      "                                                        Dharmendra Pradhan calls for an emphasis on all Indian languages and Indian knowledge systems to create global citizens.David Miller Appointed As Captain Of Paarl Royals For Inaugural South Africa T20 LeagueAsian News International   | Sunday September 18, 2022                                                        \n",
      "                                                        Paarl Royals have given the captaincy role to David Miller, who is one of the two South Africans signed by the team ahead of the auction.Who's Invited And Who's Not To Queen Elizabeth II's FuneralAgence France-Presse   | Sunday September 18, 2022, London                                                        \n",
      "                                                        Hundreds of foreign royals and leaders are expected to attend the state funeral of Queen Elizabeth II in London on Monday -- one of the biggest diplomatic gatherings in decades.Sheep Causes Chaos On A Highway In England, Stops Traffic\n",
      "\t\t\t\t\t\t\t\t\t\t\t\t\t\t\tEdited by Diksha Rani  | Sunday September 18, 2022                                                        \n",
      "                                                        The M1 motorway in England experienced major difficulties on Wednesday due to an escaped stray sheep, which resulted in hours of traffic delays.BCCI Unveils New Team India T20 Jersey Ahead Of T20 World CupNDTV Sports Desk   | Sunday September 18, 2022                                                        \n",
      "                                                        The unveiling comes a month ahead of the 2022 T20 World Cup in Australia next month and two days before India's T20I series against Australia.1 Killed, 1 Injured In Maharashtra Building CollapsePress Trust of India   | Sunday September 18, 2022, Thane, Maharashtra                                                        \n",
      "                                                        A 65-year-old man was killed and his wife injured when a portion of a building collapsed on their house in Ulhasnagar town of Maharashtra's Thane district today, an official said.Fatima Sana Ruled Out Of Women's Asia Cup 2022 Due To Ankle InjuryAsian News International   | Sunday September 18, 2022                                                        \n",
      "                                                        As per a statement from the PCB, Fatima Sana twisted her ankle while featuring in the Women's CPL. The PCB Medical panel after investigating the injury have advised her a four-week rest.Nanmadol: 5 Points On Japan's Fearsome Super-Typhoon\n",
      "\t\t\t\t\t\t\t\t\t\t\t\t\t\t\tEdited by Nikhil Pandey  | Sunday September 18, 2022                                                        \n",
      "                                                        Authorities warned millions of citizens to take shelter as Typhoon Nanmadol made landfall in southwestern Japan on Sunday night. The massive storm was packing fierce gusts and torrential rain.'Don't Touch Foreigners': Chinese Doctor's Advice To Avoid MonkeypoxPress Trust of India   | Sunday September 18, 2022, Beijing                                                        \n",
      "                                                        A top Chinese health official has warned citizens against having skin contact with foreigners and recent returnees from abroad to avoid contracting Monkeypox, triggering a social media backlash for his \"racist and discriminatory\" remarks.Fury Grows In Iran Over Woman Who Died After Hijab Arrest: ReportReuters   | Sunday September 18, 2022, Dubai                                                        \n",
      "                                                        Protests persisted on Sunday and #MahsaAmini became one of the top hashtags ever on Persian-language Twitter as Iranians fumed over the death of a young woman in the custody of morality police enforcing strict hijab rules.\"Will Build House\": Kerala Auto Driver Wins Rs 25 Crore In LotteryPress Trust of India   | Sunday September 18, 2022, Thiruvananthapuram                                                        \n",
      "                                                        An auto-rickshaw driver, who was planning to go to Malaysia to work as a chef, on Sunday won the Rs 25 crore Onam bumper lottery in Kerala, just a day after his application for a loan of Rs 3 lakh was approved.Jacqueline Fernandez Summoned Again In 200 Crores Extortion Case: Sources\n",
      "\t\t\t\t\t\t\t\t\t\t\t\t\t\t\tEdited by Debanish Achom  | Sunday September 18, 2022, New Delhi                                                        \n",
      "                                                        Actor Jacqueline Fernandez has been summoned again tomorrow by the Delhi Police for questioning in a Rs 200 crore extortion case linked to jailed conman Sukesh Chandrashekar, sources have said.AIFF Extends Igor Stimac's Contract As Indian Men's Football Team Head CoachPress Trust of India   | Sunday September 18, 2022                                                        \n",
      "                                                        Igor Stimac's contract as the head coach of the Indian men's football team has been extended till the end of AFC Asian Cup in July next year.\n"
     ]
    }
   ],
   "source": [
    "print(target.text)"
   ]
  },
  {
   "cell_type": "code",
   "execution_count": 5,
   "metadata": {},
   "outputs": [
    {
     "name": "stdout",
     "output_type": "stream",
     "text": [
      "17 news headlines found.\n"
     ]
    }
   ],
   "source": [
    "news = target.find_all('div',attrs={'class':'news_Itm'})\n",
    "if news is not None:\n",
    "    print(len(news),'news headlines found.')\n",
    "else:\n",
    "    print('could not find the tags you are looking for')"
   ]
  },
  {
   "cell_type": "code",
   "execution_count": 6,
   "metadata": {},
   "outputs": [
    {
     "name": "stdout",
     "output_type": "stream",
     "text": [
      "Video: UP Cop Slaps Man Who Complained Of Missing Niece, Transferred\n",
      "A Police Inspector in charge of Binauli Police Station in Baghpat in Uttar Pradesh was transferred and a departmental inquiry was initiated against him after a video went viral on social media where he is allegedly seen slapping a man on Saturday.\n",
      "Asian News International   | Sunday September 18, 2022, Baghpat, Uttar Pradesh\n",
      "----------------------------------------------------------------------\n",
      "Watch: Mantis Tries To Cheer Up A Dog, Internet Says \"Coolest Insect Ever\"\n",
      "A video is going viral on the internet shows an insect performing adorable antic to make an upset fog feel good.\n",
      "Edited by Diksha Rani  | Sunday September 18, 2022\n",
      "----------------------------------------------------------------------\n",
      "Dharmendra Pradhan Calls For Emphasis On All Indian languages, Knowledge Systems\n",
      "Dharmendra Pradhan calls for an emphasis on all Indian languages and Indian knowledge systems to create global citizens.\n",
      "Edited by Arpita Das  | Sunday September 18, 2022\n",
      "----------------------------------------------------------------------\n",
      "no title found\n",
      "David Miller Appointed As Captain Of Paarl Royals For Inaugural South Africa T20 League\n",
      "Paarl Royals have given the captaincy role to David Miller, who is one of the two South Africans signed by the team ahead of the auction.\n",
      "Asian News International   | Sunday September 18, 2022\n",
      "----------------------------------------------------------------------\n",
      "Who's Invited And Who's Not To Queen Elizabeth II's Funeral\n",
      "Hundreds of foreign royals and leaders are expected to attend the state funeral of Queen Elizabeth II in London on Monday -- one of the biggest diplomatic gatherings in decades.\n",
      "Agence France-Presse   | Sunday September 18, 2022, London\n",
      "----------------------------------------------------------------------\n",
      "Sheep Causes Chaos On A Highway In England, Stops Traffic\n",
      "The M1 motorway in England experienced major difficulties on Wednesday due to an escaped stray sheep, which resulted in hours of traffic delays.\n",
      "Edited by Diksha Rani  | Sunday September 18, 2022\n",
      "----------------------------------------------------------------------\n",
      "no title found\n",
      "BCCI Unveils New Team India T20 Jersey Ahead Of T20 World Cup\n",
      "The unveiling comes a month ahead of the 2022 T20 World Cup in Australia next month and two days before India's T20I series against Australia.\n",
      "NDTV Sports Desk   | Sunday September 18, 2022\n",
      "----------------------------------------------------------------------\n",
      "1 Killed, 1 Injured In Maharashtra Building Collapse\n",
      "A 65-year-old man was killed and his wife injured when a portion of a building collapsed on their house in Ulhasnagar town of Maharashtra's Thane district today, an official said.\n",
      "Press Trust of India   | Sunday September 18, 2022, Thane, Maharashtra\n",
      "----------------------------------------------------------------------\n",
      "Fatima Sana Ruled Out Of Women's Asia Cup 2022 Due To Ankle Injury\n",
      "As per a statement from the PCB, Fatima Sana twisted her ankle while featuring in the Women's CPL. The PCB Medical panel after investigating the injury have advised her a four-week rest.\n",
      "Asian News International   | Sunday September 18, 2022\n",
      "----------------------------------------------------------------------\n",
      "Nanmadol: 5 Points On Japan's Fearsome Super-Typhoon\n",
      "Authorities warned millions of citizens to take shelter as Typhoon Nanmadol made landfall in southwestern Japan on Sunday night. The massive storm was packing fierce gusts and torrential rain.\n",
      "Edited by Nikhil Pandey  | Sunday September 18, 2022\n",
      "----------------------------------------------------------------------\n",
      "'Don't Touch Foreigners': Chinese Doctor's Advice To Avoid Monkeypox\n",
      "A top Chinese health official has warned citizens against having skin contact with foreigners and recent returnees from abroad to avoid contracting Monkeypox, triggering a social media backlash for his \"racist and discriminatory\" remarks.\n",
      "Press Trust of India   | Sunday September 18, 2022, Beijing\n",
      "----------------------------------------------------------------------\n",
      "Fury Grows In Iran Over Woman Who Died After Hijab Arrest: Report\n",
      "Protests persisted on Sunday and #MahsaAmini became one of the top hashtags ever on Persian-language Twitter as Iranians fumed over the death of a young woman in the custody of morality police enforcing strict hijab rules.\n",
      "Reuters   | Sunday September 18, 2022, Dubai\n",
      "----------------------------------------------------------------------\n",
      "\"Will Build House\": Kerala Auto Driver Wins Rs 25 Crore In Lottery\n",
      "An auto-rickshaw driver, who was planning to go to Malaysia to work as a chef, on Sunday won the Rs 25 crore Onam bumper lottery in Kerala, just a day after his application for a loan of Rs 3 lakh was approved.\n",
      "Press Trust of India   | Sunday September 18, 2022, Thiruvananthapuram\n",
      "----------------------------------------------------------------------\n",
      "Jacqueline Fernandez Summoned Again In 200 Crores Extortion Case: Sources\n",
      "Actor Jacqueline Fernandez has been summoned again tomorrow by the Delhi Police for questioning in a Rs 200 crore extortion case linked to jailed conman Sukesh Chandrashekar, sources have said.\n",
      "Edited by Debanish Achom  | Sunday September 18, 2022, New Delhi\n",
      "----------------------------------------------------------------------\n",
      "AIFF Extends Igor Stimac's Contract As Indian Men's Football Team Head Coach\n",
      "Igor Stimac's contract as the head coach of the Indian men's football team has been extended till the end of AFC Asian Cup in July next year.\n",
      "Press Trust of India   | Sunday September 18, 2022\n",
      "----------------------------------------------------------------------\n"
     ]
    }
   ],
   "source": [
    "for idx , entry in enumerate(news):\n",
    "    title =entry.find('h2',attrs={'class':'newsHdng'})\n",
    "    summary = entry.find('p',attrs={'class':'newsCont'})\n",
    "    info = entry.find('span', attrs ={'class':'posted-by'})\n",
    "    if title is not None:\n",
    "        print(title.text.strip())\n",
    "        print(summary.text.strip())\n",
    "        print(info.text.strip())\n",
    "        print('-------'*10)\n",
    "    else:\n",
    "        print('no title found')"
   ]
  },
  {
   "cell_type": "code",
   "execution_count": 7,
   "metadata": {},
   "outputs": [
    {
     "name": "stdout",
     "output_type": "stream",
     "text": [
      "no title was found\n",
      "no title was found\n",
      "[{'#': 1, 'title': 'Video: UP Cop Slaps Man Who Complained Of Missing Niece, Transferred', 'summary': 'A Police Inspector in charge of Binauli Police Station in Baghpat in Uttar Pradesh was transferred and a departmental inquiry was initiated against him after a video went viral on social media where he is allegedly seen slapping a man on Saturday.', 'source': 'Asian News International', 'location': 'Sunday September 18, 2022, Baghpat, Uttar Pradesh'}, {'#': 2, 'title': 'Watch: Mantis Tries To Cheer Up A Dog, Internet Says \"Coolest Insect Ever\"', 'summary': 'A video is going viral on the internet shows an insect performing adorable antic to make an upset fog feel good.', 'source': 'Edited by Diksha Rani', 'location': 'Sunday September 18, 2022'}, {'#': 3, 'title': 'Dharmendra Pradhan Calls For Emphasis On All Indian languages, Knowledge Systems', 'summary': 'Dharmendra Pradhan calls for an emphasis on all Indian languages and Indian knowledge systems to create global citizens.', 'source': 'Edited by Arpita Das', 'location': 'Sunday September 18, 2022'}, {'#': 5, 'title': 'David Miller Appointed As Captain Of Paarl Royals For Inaugural South Africa T20 League', 'summary': 'Paarl Royals have given the captaincy role to David Miller, who is one of the two South Africans signed by the team ahead of the auction.', 'source': 'Asian News International', 'location': 'Sunday September 18, 2022'}, {'#': 6, 'title': \"Who's Invited And Who's Not To Queen Elizabeth II's Funeral\", 'summary': 'Hundreds of foreign royals and leaders are expected to attend the state funeral of Queen Elizabeth II in London on Monday -- one of the biggest diplomatic gatherings in decades.', 'source': 'Agence France-Presse', 'location': 'Sunday September 18, 2022, London'}, {'#': 7, 'title': 'Sheep Causes Chaos On A Highway In England, Stops Traffic', 'summary': 'The M1 motorway in England experienced major difficulties on Wednesday due to an escaped stray sheep, which resulted in hours of traffic delays.', 'source': 'Edited by Diksha Rani', 'location': 'Sunday September 18, 2022'}, {'#': 9, 'title': 'BCCI Unveils New Team India T20 Jersey Ahead Of T20 World Cup', 'summary': \"The unveiling comes a month ahead of the 2022 T20 World Cup in Australia next month and two days before India's T20I series against Australia.\", 'source': 'NDTV Sports Desk', 'location': 'Sunday September 18, 2022'}, {'#': 10, 'title': '1 Killed, 1 Injured In Maharashtra Building Collapse', 'summary': \"A 65-year-old man was killed and his wife injured when a portion of a building collapsed on their house in Ulhasnagar town of Maharashtra's Thane district today, an official said.\", 'source': 'Press Trust of India', 'location': 'Sunday September 18, 2022, Thane, Maharashtra'}, {'#': 11, 'title': \"Fatima Sana Ruled Out Of Women's Asia Cup 2022 Due To Ankle Injury\", 'summary': \"As per a statement from the PCB, Fatima Sana twisted her ankle while featuring in the Women's CPL. The PCB Medical panel after investigating the injury have advised her a four-week rest.\", 'source': 'Asian News International', 'location': 'Sunday September 18, 2022'}, {'#': 12, 'title': \"Nanmadol: 5 Points On Japan's Fearsome Super-Typhoon\", 'summary': 'Authorities warned millions of citizens to take shelter as Typhoon Nanmadol made landfall in southwestern Japan on Sunday night. The massive storm was packing fierce gusts and torrential rain.', 'source': 'Edited by Nikhil Pandey', 'location': 'Sunday September 18, 2022'}, {'#': 13, 'title': \"'Don't Touch Foreigners': Chinese Doctor's Advice To Avoid Monkeypox\", 'summary': 'A top Chinese health official has warned citizens against having skin contact with foreigners and recent returnees from abroad to avoid contracting Monkeypox, triggering a social media backlash for his \"racist and discriminatory\" remarks.', 'source': 'Press Trust of India', 'location': 'Sunday September 18, 2022, Beijing'}, {'#': 14, 'title': 'Fury Grows In Iran Over Woman Who Died After Hijab Arrest: Report', 'summary': 'Protests persisted on Sunday and #MahsaAmini became one of the top hashtags ever on Persian-language Twitter as Iranians fumed over the death of a young woman in the custody of morality police enforcing strict hijab rules.', 'source': 'Reuters', 'location': 'Sunday September 18, 2022, Dubai'}, {'#': 15, 'title': '\"Will Build House\": Kerala Auto Driver Wins Rs 25 Crore In Lottery', 'summary': 'An auto-rickshaw driver, who was planning to go to Malaysia to work as a chef, on Sunday won the Rs 25 crore Onam bumper lottery in Kerala, just a day after his application for a loan of Rs 3 lakh was approved.', 'source': 'Press Trust of India', 'location': 'Sunday September 18, 2022, Thiruvananthapuram'}, {'#': 16, 'title': 'Jacqueline Fernandez Summoned Again In 200 Crores Extortion Case: Sources', 'summary': 'Actor Jacqueline Fernandez has been summoned again tomorrow by the Delhi Police for questioning in a Rs 200 crore extortion case linked to jailed conman Sukesh Chandrashekar, sources have said.', 'source': 'Edited by Debanish Achom', 'location': 'Sunday September 18, 2022, New Delhi'}, {'#': 17, 'title': \"AIFF Extends Igor Stimac's Contract As Indian Men's Football Team Head Coach\", 'summary': \"Igor Stimac's contract as the head coach of the Indian men's football team has been extended till the end of AFC Asian Cup in July next year.\", 'source': 'Press Trust of India', 'location': 'Sunday September 18, 2022'}]\n"
     ]
    }
   ],
   "source": [
    "news_data =[] #empty list\n",
    "for idx , entry in enumerate(news):\n",
    "    title =entry.find('h2', attrs={'class':'newsHdng'})\n",
    "    summary = entry.find('p', attrs={'class':'newsCont'})\n",
    "    info = entry.find('span', attrs ={'class':'posted-by'})\n",
    "    if title is not None:\n",
    "        try:\n",
    "\n",
    "            source , location = info.text.split('|')\n",
    "        except:\n",
    "            source,location = \"N/A\" , \"N/A\"\n",
    "        news_data.append({\n",
    "            '#': idx+1,\n",
    "            'title': title.text.strip(),\n",
    "            'summary': summary.text.strip(),\n",
    "            'source': source.strip(),\n",
    "            'location': location.strip(),\n",
    "        })\n",
    "    else:\n",
    "        print('no title was found')\n",
    "print(news_data)\n"
   ]
  }
 ],
 "metadata": {
  "kernelspec": {
   "display_name": "Python 3.9.12 ('base')",
   "language": "python",
   "name": "python3"
  },
  "language_info": {
   "codemirror_mode": {
    "name": "ipython",
    "version": 3
   },
   "file_extension": ".py",
   "mimetype": "text/x-python",
   "name": "python",
   "nbconvert_exporter": "python",
   "pygments_lexer": "ipython3",
   "version": "3.9.12"
  },
  "orig_nbformat": 4,
  "vscode": {
   "interpreter": {
    "hash": "1dc616534f95709e8384a06e8fb415e5200462b94babbd04eb74177bcd6d173a"
   }
  }
 },
 "nbformat": 4,
 "nbformat_minor": 2
}
