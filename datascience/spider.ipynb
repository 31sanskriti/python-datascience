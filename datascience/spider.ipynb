{
 "cells": [
  {
   "cell_type": "code",
   "execution_count": 24,
   "metadata": {},
   "outputs": [
    {
     "name": "stdout",
     "output_type": "stream",
     "text": [
      "200\n"
     ]
    }
   ],
   "source": [
    "import requests\n",
    "from bs4 import BeautifulSoup\n",
    "\n",
    "addr= \"https://www.ndtv.com/latest\"\n",
    "page = requests.get(addr)\n",
    "print(page.status_code)"
   ]
  },
  {
   "cell_type": "code",
   "execution_count": 25,
   "metadata": {},
   "outputs": [],
   "source": [
    "soup = BeautifulSoup(page.text)"
   ]
  },
  {
   "cell_type": "code",
   "execution_count": 26,
   "metadata": {},
   "outputs": [
    {
     "name": "stdout",
     "output_type": "stream",
     "text": [
      "target found\n"
     ]
    }
   ],
   "source": [
    "target = soup.find('div', attrs={'class':'lisingNews'})\n",
    "if target is not None :\n",
    "    print('target found')\n",
    "else:\n",
    "    print('could not find targetted area')"
   ]
  },
  {
   "cell_type": "code",
   "execution_count": 31,
   "metadata": {},
   "outputs": [
    {
     "name": "stdout",
     "output_type": "stream",
     "text": [
      "\"Opposition Doesn't Even Think About Such Bowlers\": Former Pakistan Pacer On Arshdeep SinghNDTV Sports Desk   | Saturday September 17, 2022                                                        \n",
      "                                                        Former Pakistan pacer Aaqib Javed has termed India's Arshdeep Singh as a \"basic bowler\". Javed said that Arshdeep doesn't have a \"trademark\" that all the great or impactful bowlers have.MotoGP Likely To Make India Debut In Winter Of 2023, Promoters Promise Long FuturePress Trust of India   | Saturday September 17, 2022                                                        \n",
      "                                                        MotoGP, the pinnacle of two-wheel racing, could come to India in the winter of 2023 if all goes ahead as planned, providing a massive boost to the stagnant motorsport scene in the country.Banks Must Appoint Staff Who Speak Local Language, Says Nirmala Sitharaman\n",
      "\t\t\t\t\t\t\t\t\t\t\t\t\t\t\tEdited by Supriti David  | Saturday September 17, 2022, New Delhi                                                        \n",
      "                                                        Union Finance Minister Nirmala Sitharaman on Friday called upon banks to appoint staff who could \"speak the local language\" and thus urged them to show inclusivity in their recruitment, the Hindu reported.Blockbuster: Sonakshi Sinha And Zaheer Iqbal Announce New Music Video\n",
      "\t\t\t\t\t\t\t\t\t\t\t\t\t\t\tWritten by Jyothi Jha  | Saturday September 17, 2022, New Delhi                                                        \n",
      "                                                        The rumoured couple will also be seen in the film Double XLWorld Patient Safety Day: WHO Urges Ending Unsafe Medication PracticesPress Trust of India   | Saturday September 17, 2022, New Delhi                                                        \n",
      "                                                        On World Patient Safety Day, WHO on Saturday highlighted the need to prevent avoidable harm in healthcare systems with a focus on ending unsafe medication practices and errors.CBI Team At Goa Hotel Where BJP Leader Sonali Phogat, Aides Stayed\n",
      "\t\t\t\t\t\t\t\t\t\t\t\t\t\t\tReported by Mukesh Singh Sengar | Saturday September 17, 2022                                                        \n",
      "                                                        A Central Bureau of Investigation team investigating the mysterious death of Haryana politician Sonali Phogat in Goa last month today searched the rooms of the hotel where the BJP leader and her mail-aides stayed to collect evidence in connection witPM Welcomes Cheetahs from Namibia, Says It's \"Historic\" Day: Top QuotesNDTV News Desk   | Saturday September 17, 2022, Gwalior                                                        \n",
      "                                                        Prime Minister Narendra Modi today released cheetahs flown in from Namibia into special enclosures at Kuno National Park in Madhya Pradesh as part of a project to reintroduce the big cats in India.Woman Found Dead Inside Rented Home, Husband Missing: Delhi CopsPress Trust of India   | Saturday September 17, 2022, New Delhi                                                        \n",
      "                                                        A 22-year-old woman was found dead in a rented accommodation in northeast Delhi's Maujpur area, police said on Saturday.Case Against Man For Carrying Air Gun To Protect Kids From Dogs In KeralaPress Trust of India   | Saturday September 17, 2022, Kasaragod (Kerala)                                                        \n",
      "                                                        A case was registered against a man on Saturday for carrying an air gun to protect his children from stray dogs while escorting them to a nearby Madrasa in Kerala's Kasaragod.Cheetah Release A \"Tamasha\" By PM To Avoid National Issues: CongressPress Trust of India   | Saturday September 17, 2022, New Delhi                                                        \n",
      "                                                        The Congress on Saturday called Prime Minister Narendra Modi's releasing of Cheetahs in a Madhya Pradesh national park a \"tamasha,\" orchestrated by him as another diversion from pressing national issues and the 'Bharat Jodo Yatra'.JEE Advanced 2022 Result: IIT Kanpur To Offer 10 Special Scholarships To Top 100 Rank Holders\n",
      "\t\t\t\t\t\t\t\t\t\t\t\t\t\t\tEdited by Mridusmita Deka  | Saturday September 17, 2022                                                        \n",
      "                                                        The annual scholarships of Rs 3 lakh will be awarded to the selected students who have been admitted for the BTech and BS programme for the 2022-23 academic year.\"Because They Have Beaten India...\": Parthiv Patel's Stern Warning To Team India Ahead Of Pakistan Clash In T20 World CupNDTV Sports Desk   | Saturday September 17, 2022                                                        \n",
      "                                                        Pakistan had defeated India when the two sides met each other in 2021 T20 World Cup and Parthiv feels that the win must have boosted the morale of the Babar Azam-led side.Vivo T1 5G Silky White Variant With 5,000mAh Battery, 120Hz Display Launched in India: Price, Specifications\n",
      "\t\t\t\t\t\t\t\t\t\t\t\t\t\t\tWritten by Siddharth Suvarna  | Saturday September 17, 2022                                                        \n",
      "                                                        Vivo T1 5G gets a new Silky White colour option in India. The new variant is available on Flipkart and is equipped with a Snapdragon 695 SoC. The handset comes with a large 5,000mAh battery, a 6.58-inch full-HD+ IPS LCD display with 120Hz refresh rate, and a triple rear camera setup.England vs India: Struggling Indian Team Aims To Give Fitting Farewell To Jhulan GoswamiPress Trust of India   | Saturday September 17, 2022                                                        \n",
      "                                                        England vs India: India pacer Jhulan Goswami is set to retire at the end of the three-match ODI series agianst England, starting Sunday.Many Didn't Celebrate Hyderabad Liberation Day Due To Vote-Bank: Amit ShahPress Trust of India   | Saturday September 17, 2022, Hyderabad                                                        \n",
      "                                                        Union Home Minister Amith Shah on Saturday credited Sardar Vallabhbhai Patel for the liberation of Hyderabad and took a swipe at those who had \"turned back\" on celebrating the day.\n"
     ]
    }
   ],
   "source": [
    "print(target.text)"
   ]
  },
  {
   "cell_type": "code",
   "execution_count": 32,
   "metadata": {},
   "outputs": [
    {
     "name": "stdout",
     "output_type": "stream",
     "text": [
      "17 news headlines found.\n"
     ]
    }
   ],
   "source": [
    "news = target.find_all('div',attrs={'class':'news_Itm'})\n",
    "if news is not None:\n",
    "    print(len(news),'news headlines found.')\n",
    "else:\n",
    "    print('could not find the tags you are looking for')"
   ]
  },
  {
   "cell_type": "code",
   "execution_count": 33,
   "metadata": {},
   "outputs": [
    {
     "name": "stdout",
     "output_type": "stream",
     "text": [
      "\"Opposition Doesn't Even Think About Such Bowlers\": Former Pakistan Pacer On Arshdeep Singh\n",
      "Former Pakistan pacer Aaqib Javed has termed India's Arshdeep Singh as a \"basic bowler\". Javed said that Arshdeep doesn't have a \"trademark\" that all the great or impactful bowlers have.\n",
      "NDTV Sports Desk   | Saturday September 17, 2022\n",
      "----------------------------------------------------------------------\n",
      "MotoGP Likely To Make India Debut In Winter Of 2023, Promoters Promise Long Future\n",
      "MotoGP, the pinnacle of two-wheel racing, could come to India in the winter of 2023 if all goes ahead as planned, providing a massive boost to the stagnant motorsport scene in the country.\n",
      "Press Trust of India   | Saturday September 17, 2022\n",
      "----------------------------------------------------------------------\n",
      "Banks Must Appoint Staff Who Speak Local Language, Says Nirmala Sitharaman\n",
      "Union Finance Minister Nirmala Sitharaman on Friday called upon banks to appoint staff who could \"speak the local language\" and thus urged them to show inclusivity in their recruitment, the Hindu reported.\n",
      "Edited by Supriti David  | Saturday September 17, 2022, New Delhi\n",
      "----------------------------------------------------------------------\n",
      "no title found\n",
      "Blockbuster: Sonakshi Sinha And Zaheer Iqbal Announce New Music Video\n",
      "The rumoured couple will also be seen in the film Double XL\n",
      "Written by Jyothi Jha  | Saturday September 17, 2022, New Delhi\n",
      "----------------------------------------------------------------------\n",
      "World Patient Safety Day: WHO Urges Ending Unsafe Medication Practices\n",
      "On World Patient Safety Day, WHO on Saturday highlighted the need to prevent avoidable harm in healthcare systems with a focus on ending unsafe medication practices and errors.\n",
      "Press Trust of India   | Saturday September 17, 2022, New Delhi\n",
      "----------------------------------------------------------------------\n",
      "CBI Team At Goa Hotel Where BJP Leader Sonali Phogat, Aides Stayed\n",
      "A Central Bureau of Investigation team investigating the mysterious death of Haryana politician Sonali Phogat in Goa last month today searched the rooms of the hotel where the BJP leader and her mail-aides stayed to collect evidence in connection wit\n",
      "Reported by Mukesh Singh Sengar | Saturday September 17, 2022\n",
      "----------------------------------------------------------------------\n",
      "no title found\n",
      "PM Welcomes Cheetahs from Namibia, Says It's \"Historic\" Day: Top Quotes\n",
      "Prime Minister Narendra Modi today released cheetahs flown in from Namibia into special enclosures at Kuno National Park in Madhya Pradesh as part of a project to reintroduce the big cats in India.\n",
      "NDTV News Desk   | Saturday September 17, 2022, Gwalior\n",
      "----------------------------------------------------------------------\n",
      "Woman Found Dead Inside Rented Home, Husband Missing: Delhi Cops\n",
      "A 22-year-old woman was found dead in a rented accommodation in northeast Delhi's Maujpur area, police said on Saturday.\n",
      "Press Trust of India   | Saturday September 17, 2022, New Delhi\n",
      "----------------------------------------------------------------------\n",
      "Case Against Man For Carrying Air Gun To Protect Kids From Dogs In Kerala\n",
      "A case was registered against a man on Saturday for carrying an air gun to protect his children from stray dogs while escorting them to a nearby Madrasa in Kerala's Kasaragod.\n",
      "Press Trust of India   | Saturday September 17, 2022, Kasaragod (Kerala)\n",
      "----------------------------------------------------------------------\n",
      "Cheetah Release A \"Tamasha\" By PM To Avoid National Issues: Congress\n",
      "The Congress on Saturday called Prime Minister Narendra Modi's releasing of Cheetahs in a Madhya Pradesh national park a \"tamasha,\" orchestrated by him as another diversion from pressing national issues and the 'Bharat Jodo Yatra'.\n",
      "Press Trust of India   | Saturday September 17, 2022, New Delhi\n",
      "----------------------------------------------------------------------\n",
      "JEE Advanced 2022 Result: IIT Kanpur To Offer 10 Special Scholarships To Top 100 Rank Holders\n",
      "The annual scholarships of Rs 3 lakh will be awarded to the selected students who have been admitted for the BTech and BS programme for the 2022-23 academic year.\n",
      "Edited by Mridusmita Deka  | Saturday September 17, 2022\n",
      "----------------------------------------------------------------------\n",
      "\"Because They Have Beaten India...\": Parthiv Patel's Stern Warning To Team India Ahead Of Pakistan Clash In T20 World Cup\n",
      "Pakistan had defeated India when the two sides met each other in 2021 T20 World Cup and Parthiv feels that the win must have boosted the morale of the Babar Azam-led side.\n",
      "NDTV Sports Desk   | Saturday September 17, 2022\n",
      "----------------------------------------------------------------------\n",
      "Vivo T1 5G Silky White Variant With 5,000mAh Battery, 120Hz Display Launched in India: Price, Specifications\n",
      "Vivo T1 5G gets a new Silky White colour option in India. The new variant is available on Flipkart and is equipped with a Snapdragon 695 SoC. The handset comes with a large 5,000mAh battery, a 6.58-inch full-HD+ IPS LCD display with 120Hz refresh rate, and a triple rear camera setup.\n",
      "Written by Siddharth Suvarna  | Saturday September 17, 2022\n",
      "----------------------------------------------------------------------\n",
      "England vs India: Struggling Indian Team Aims To Give Fitting Farewell To Jhulan Goswami\n",
      "England vs India: India pacer Jhulan Goswami is set to retire at the end of the three-match ODI series agianst England, starting Sunday.\n",
      "Press Trust of India   | Saturday September 17, 2022\n",
      "----------------------------------------------------------------------\n",
      "Many Didn't Celebrate Hyderabad Liberation Day Due To Vote-Bank: Amit Shah\n",
      "Union Home Minister Amith Shah on Saturday credited Sardar Vallabhbhai Patel for the liberation of Hyderabad and took a swipe at those who had \"turned back\" on celebrating the day.\n",
      "Press Trust of India   | Saturday September 17, 2022, Hyderabad\n",
      "----------------------------------------------------------------------\n"
     ]
    }
   ],
   "source": [
    "for idx , entry in enumerate(news):\n",
    "    title =entry.find('h2',attrs={'class':'newsHdng'})\n",
    "    summary = entry.find('p',attrs={'class':'newsCont'})\n",
    "    info = entry.find('span', attrs ={'class':'posted-by'})\n",
    "    if title is not None:\n",
    "        print(title.text.strip())\n",
    "        print(summary.text.strip())\n",
    "        print(info.text.strip())\n",
    "        print('-------'*10)\n",
    "    else:\n",
    "        print('no title found')"
   ]
  },
  {
   "cell_type": "code",
   "execution_count": 34,
   "metadata": {},
   "outputs": [
    {
     "name": "stdout",
     "output_type": "stream",
     "text": [
      "no title was found\n",
      "no title was found\n",
      "[{'#': 1, 'title': '\"Opposition Doesn\\'t Even Think About Such Bowlers\": Former Pakistan Pacer On Arshdeep Singh', 'summary': 'Former Pakistan pacer Aaqib Javed has termed India\\'s Arshdeep Singh as a \"basic bowler\". Javed said that Arshdeep doesn\\'t have a \"trademark\" that all the great or impactful bowlers have.', 'source': 'NDTV Sports Desk', 'location': 'Saturday September 17, 2022'}, {'#': 2, 'title': 'MotoGP Likely To Make India Debut In Winter Of 2023, Promoters Promise Long Future', 'summary': 'MotoGP, the pinnacle of two-wheel racing, could come to India in the winter of 2023 if all goes ahead as planned, providing a massive boost to the stagnant motorsport scene in the country.', 'source': 'Press Trust of India', 'location': 'Saturday September 17, 2022'}, {'#': 3, 'title': 'Banks Must Appoint Staff Who Speak Local Language, Says Nirmala Sitharaman', 'summary': 'Union Finance Minister Nirmala Sitharaman on Friday called upon banks to appoint staff who could \"speak the local language\" and thus urged them to show inclusivity in their recruitment, the Hindu reported.', 'source': 'Edited by Supriti David', 'location': 'Saturday September 17, 2022, New Delhi'}, {'#': 5, 'title': 'Blockbuster: Sonakshi Sinha And Zaheer Iqbal Announce New Music Video', 'summary': 'The rumoured couple will also be seen in the film Double XL', 'source': 'Written by Jyothi Jha', 'location': 'Saturday September 17, 2022, New Delhi'}, {'#': 6, 'title': 'World Patient Safety Day: WHO Urges Ending Unsafe Medication Practices', 'summary': 'On World Patient Safety Day, WHO on Saturday highlighted the need to prevent avoidable harm in healthcare systems with a focus on ending unsafe medication practices and errors.', 'source': 'Press Trust of India', 'location': 'Saturday September 17, 2022, New Delhi'}, {'#': 7, 'title': 'CBI Team At Goa Hotel Where BJP Leader Sonali Phogat, Aides Stayed', 'summary': 'A Central Bureau of Investigation team investigating the mysterious death of Haryana politician Sonali Phogat in Goa last month today searched the rooms of the hotel where the BJP leader and her mail-aides stayed to collect evidence in connection wit', 'source': 'Reported by Mukesh Singh Sengar', 'location': 'Saturday September 17, 2022'}, {'#': 9, 'title': 'PM Welcomes Cheetahs from Namibia, Says It\\'s \"Historic\" Day: Top Quotes', 'summary': 'Prime Minister Narendra Modi today released cheetahs flown in from Namibia into special enclosures at Kuno National Park in Madhya Pradesh as part of a project to reintroduce the big cats in India.', 'source': 'NDTV News Desk', 'location': 'Saturday September 17, 2022, Gwalior'}, {'#': 10, 'title': 'Woman Found Dead Inside Rented Home, Husband Missing: Delhi Cops', 'summary': \"A 22-year-old woman was found dead in a rented accommodation in northeast Delhi's Maujpur area, police said on Saturday.\", 'source': 'Press Trust of India', 'location': 'Saturday September 17, 2022, New Delhi'}, {'#': 11, 'title': 'Case Against Man For Carrying Air Gun To Protect Kids From Dogs In Kerala', 'summary': \"A case was registered against a man on Saturday for carrying an air gun to protect his children from stray dogs while escorting them to a nearby Madrasa in Kerala's Kasaragod.\", 'source': 'Press Trust of India', 'location': 'Saturday September 17, 2022, Kasaragod (Kerala)'}, {'#': 12, 'title': 'Cheetah Release A \"Tamasha\" By PM To Avoid National Issues: Congress', 'summary': 'The Congress on Saturday called Prime Minister Narendra Modi\\'s releasing of Cheetahs in a Madhya Pradesh national park a \"tamasha,\" orchestrated by him as another diversion from pressing national issues and the \\'Bharat Jodo Yatra\\'.', 'source': 'Press Trust of India', 'location': 'Saturday September 17, 2022, New Delhi'}, {'#': 13, 'title': 'JEE Advanced 2022 Result: IIT Kanpur To Offer 10 Special Scholarships To Top 100 Rank Holders', 'summary': 'The annual scholarships of Rs 3 lakh will be awarded to the selected students who have been admitted for the BTech and BS programme for the 2022-23 academic year.', 'source': 'Edited by Mridusmita Deka', 'location': 'Saturday September 17, 2022'}, {'#': 14, 'title': '\"Because They Have Beaten India...\": Parthiv Patel\\'s Stern Warning To Team India Ahead Of Pakistan Clash In T20 World Cup', 'summary': 'Pakistan had defeated India when the two sides met each other in 2021 T20 World Cup and Parthiv feels that the win must have boosted the morale of the Babar Azam-led side.', 'source': 'NDTV Sports Desk', 'location': 'Saturday September 17, 2022'}, {'#': 15, 'title': 'Vivo T1 5G Silky White Variant With 5,000mAh Battery, 120Hz Display Launched in India: Price, Specifications', 'summary': 'Vivo T1 5G gets a new Silky White colour option in India. The new variant is available on Flipkart and is equipped with a Snapdragon 695 SoC. The handset comes with a large 5,000mAh battery, a 6.58-inch full-HD+ IPS LCD display with 120Hz refresh rate, and a triple rear camera setup.', 'source': 'Written by Siddharth Suvarna', 'location': 'Saturday September 17, 2022'}, {'#': 16, 'title': 'England vs India: Struggling Indian Team Aims To Give Fitting Farewell To Jhulan Goswami', 'summary': 'England vs India: India pacer Jhulan Goswami is set to retire at the end of the three-match ODI series agianst England, starting Sunday.', 'source': 'Press Trust of India', 'location': 'Saturday September 17, 2022'}, {'#': 17, 'title': \"Many Didn't Celebrate Hyderabad Liberation Day Due To Vote-Bank: Amit Shah\", 'summary': 'Union Home Minister Amith Shah on Saturday credited Sardar Vallabhbhai Patel for the liberation of Hyderabad and took a swipe at those who had \"turned back\" on celebrating the day.', 'source': 'Press Trust of India', 'location': 'Saturday September 17, 2022, Hyderabad'}]\n"
     ]
    }
   ],
   "source": [
    "news_data =[] #empty list\n",
    "for idx , entry in enumerate(news):\n",
    "    title =entry.find('h2', attrs={'class':'newsHdng'})\n",
    "    summary = entry.find('p', attrs={'class':'newsCont'})\n",
    "    info = entry.find('span', attrs ={'class':'posted-by'})\n",
    "    if title is not None:\n",
    "        try:\n",
    "\n",
    "            source , location = info.text.split('|')\n",
    "        except:\n",
    "            source,location = \"N/A\" , \"N/A\"\n",
    "        news_data.append({\n",
    "            '#': idx+1,\n",
    "            'title': title.text.strip(),\n",
    "            'summary': summary.text.strip(),\n",
    "            'source': source.strip(),\n",
    "            'location': location.strip(),\n",
    "        })\n",
    "    else:\n",
    "        print('no title was found')\n",
    "print(news_data)\n"
   ]
  }
 ],
 "metadata": {
  "kernelspec": {
   "display_name": "Python 3.9.12 ('base')",
   "language": "python",
   "name": "python3"
  },
  "language_info": {
   "codemirror_mode": {
    "name": "ipython",
    "version": 3
   },
   "file_extension": ".py",
   "mimetype": "text/x-python",
   "name": "python",
   "nbconvert_exporter": "python",
   "pygments_lexer": "ipython3",
   "version": "3.9.12"
  },
  "orig_nbformat": 4,
  "vscode": {
   "interpreter": {
    "hash": "1dc616534f95709e8384a06e8fb415e5200462b94babbd04eb74177bcd6d173a"
   }
  }
 },
 "nbformat": 4,
 "nbformat_minor": 2
}
