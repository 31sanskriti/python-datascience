{
 "cells": [
  {
   "cell_type": "code",
   "execution_count": 10,
   "metadata": {},
   "outputs": [],
   "source": [
    "import requests\n",
    "from bs4 import BeautifulSoup"
   ]
  },
  {
   "cell_type": "code",
   "execution_count": 11,
   "metadata": {},
   "outputs": [],
   "source": [
    "def load_soup(url):\n",
    "    page= requests.get(url)\n",
    "    if page.status_code == 200:\n",
    "        return BeautifulSoup(page.text)\n"
   ]
  },
  {
   "cell_type": "code",
   "execution_count": 12,
   "metadata": {},
   "outputs": [
    {
     "name": "stdout",
     "output_type": "stream",
     "text": [
      "data loaded\n"
     ]
    }
   ],
   "source": [
    "url ='https://www.flipkart.com/search?q=mobiles&otracker=search&otracker1=search&marketplace=FLIPKART&as-show=on&as=off'\n",
    "soup = load_soup(url)\n",
    "if soup is not None:\n",
    "    print('data loaded')\n",
    "else:\n",
    "    print('data could not be loaded')"
   ]
  },
  {
   "cell_type": "code",
   "execution_count": 13,
   "metadata": {},
   "outputs": [
    {
     "name": "stdout",
     "output_type": "stream",
     "text": [
      "target found\n"
     ]
    }
   ],
   "source": [
    "target = soup.find('div', attrs={'class':'_1YokD2 _3Mn1Gg'})\n",
    "if target is not None :\n",
    "    print('target found')\n",
    "else:\n",
    "    print('could not find targetted area')"
   ]
  },
  {
   "cell_type": "code",
   "execution_count": 14,
   "metadata": {},
   "outputs": [
    {
     "name": "stdout",
     "output_type": "stream",
     "text": [
      "24 items found in page\n"
     ]
    }
   ],
   "source": [
    "items = target.find_all('div', class_='_2kHMtA')\n",
    "if items is not None:\n",
    "    print(len(items), 'items found in page' ) \n",
    "\n",
    "else:\n",
    "    print('you should go and sleep')"
   ]
  },
  {
   "cell_type": "code",
   "execution_count": 15,
   "metadata": {},
   "outputs": [
    {
     "name": "stdout",
     "output_type": "stream",
     "text": [
      "Infinix HOT 12 Play (Horizon Blue, 64 GB)\n",
      "Infinix HOT 12 Play (Champagne Gold, 64 GB)\n",
      "Infinix HOT 12 Play (Daylight Green, 64 GB)\n",
      "IAIR D22\n",
      "Infinix HOT 12 Play (Racing Black, 64 GB)\n",
      "REDMI 9i Sport (Coral Green, 64 GB)\n",
      "REDMI 9i Sport (Carbon Black, 64 GB)\n",
      "IAIR D41\n",
      "SAMSUNG Galaxy F23 5G (Copper Blush, 128 GB)\n",
      "SAMSUNG Galaxy F23 5G (Forest Green, 128 GB)\n",
      "OPPO K10 (Black Carbon, 128 GB)\n",
      "IAIR D10\n",
      "OPPO K10 (Blue Flame, 128 GB)\n",
      "REDMI 9i Sport (Metallic Blue, 64 GB)\n",
      "Infinix Smart 6 HD (Aqua Sky, 32 GB)\n",
      "IAIR D23\n",
      "realme C33 (Sandy Gold, 32 GB)\n",
      "realme C33 (Sandy Gold, 64 GB)\n",
      "realme C33 (Aqua Blue, 64 GB)\n",
      "realme C33 (Night Sea, 64 GB)\n",
      "SAMSUNG Galaxy F23 5G (Aqua Blue, 128 GB)\n",
      "realme C31 (Light Silver, 32 GB)\n",
      "realme C31 (Dark Green, 32 GB)\n",
      "realme C31 (Dark Green, 64 GB)\n"
     ]
    }
   ],
   "source": [
    "for product in items:\n",
    "    name= product.find('div',class_='_4rR01T')\n",
    "    print(name.text)"
   ]
  },
  {
   "cell_type": "code",
   "execution_count": 16,
   "metadata": {},
   "outputs": [
    {
     "name": "stdout",
     "output_type": "stream",
     "text": [
      "₹8,199\n",
      "original price ₹11,999\n",
      "no exchange offer\n",
      "rating 4.3\n",
      "review count not available\n",
      "\n",
      "₹8,199\n",
      "original price ₹11,999\n",
      "no exchange offer\n",
      "rating 4.3\n",
      "review count not available\n",
      "\n",
      "₹8,199\n",
      "original price ₹11,999\n",
      "no exchange offer\n",
      "rating 4.3\n",
      "review count not available\n",
      "\n",
      "₹1,120\n",
      "original price not available\n",
      "no exchange offer\n",
      "rating 4.1\n",
      "review count not available\n",
      "\n",
      "₹8,199\n",
      "original price ₹11,999\n",
      "no exchange offer\n",
      "rating 4.3\n",
      "review count not available\n",
      "\n",
      "₹7,999\n",
      "original price ₹9,999\n",
      "no exchange offer\n",
      "rating 4.4\n",
      "review count not available\n",
      "\n",
      "₹7,999\n",
      "original price ₹9,999\n",
      "no exchange offer\n",
      "rating 4.4\n",
      "review count not available\n",
      "\n",
      "₹1,319\n",
      "original price not available\n",
      "no exchange offer\n",
      "rating 3.7\n",
      "review count not available\n",
      "\n",
      "₹13,499\n",
      "original price ₹23,999\n",
      "no exchange offer\n",
      "rating 4.1\n",
      "review count not available\n",
      "\n",
      "₹13,499\n",
      "original price ₹23,999\n",
      "no exchange offer\n",
      "rating 4.1\n",
      "review count not available\n",
      "\n",
      "₹13,490\n",
      "original price ₹18,999\n",
      "no exchange offer\n",
      "rating 4.4\n",
      "review count not available\n",
      "\n",
      "₹1,072\n",
      "original price not available\n",
      "no exchange offer\n",
      "rating 4\n",
      "review count not available\n",
      "\n",
      "₹13,490\n",
      "original price ₹18,999\n",
      "no exchange offer\n",
      "rating 4.4\n",
      "review count not available\n",
      "\n",
      "₹7,999\n",
      "original price ₹9,999\n",
      "no exchange offer\n",
      "rating 4.4\n",
      "review count not available\n",
      "\n",
      "₹6,199\n",
      "original price ₹8,999\n",
      "no exchange offer\n",
      "rating 4.6\n",
      "review count not available\n",
      "\n",
      "₹1,097\n",
      "original price ₹1,099\n",
      "no exchange offer\n",
      "rating 4.1\n",
      "review count not available\n",
      "\n",
      "₹8,999\n",
      "original price ₹11,999\n",
      "no exchange offer\n",
      "rating 4.5\n",
      "review count not available\n",
      "\n",
      "₹9,999\n",
      "original price ₹12,999\n",
      "no exchange offer\n",
      "rating 4.7\n",
      "review count not available\n",
      "\n",
      "₹9,999\n",
      "original price ₹12,999\n",
      "no exchange offer\n",
      "rating 4.7\n",
      "review count not available\n",
      "\n",
      "₹9,999\n",
      "original price ₹12,999\n",
      "no exchange offer\n",
      "rating 4.7\n",
      "review count not available\n",
      "\n",
      "₹13,499\n",
      "original price ₹23,999\n",
      "no exchange offer\n",
      "rating 4.1\n",
      "review count not available\n",
      "\n",
      "₹8,299\n",
      "original price ₹10,999\n",
      "no exchange offer\n",
      "rating 4.6\n",
      "review count not available\n",
      "\n",
      "₹8,299\n",
      "original price ₹10,999\n",
      "no exchange offer\n",
      "rating 4.6\n",
      "review count not available\n",
      "\n",
      "₹9,499\n",
      "original price ₹11,999\n",
      "no exchange offer\n",
      "rating 4.4\n",
      "review count not available\n",
      "\n"
     ]
    }
   ],
   "source": [
    "for product in items:\n",
    "    price1= product.find('div',class_='_30jeq3 _1_WHN1')\n",
    "    price2 = product.find('div',class_='_3I9_wc _27UcVY')\n",
    "    exprice = product.find('div',class_='_2Tpdn3 _18hQos')\n",
    "    rating =  product.find('div',class_='_3LWZlK')\n",
    "    reviews = product.find('div',class_='_2_R_DZ')\n",
    "    print(price1.text)\n",
    "    try:\n",
    "        print('original price',price2.text)\n",
    "\n",
    "    except:\n",
    "        print('original price not available' )\n",
    "\n",
    "    try:\n",
    "        print('exchange upto',exprice.text)\n",
    "\n",
    "    except:\n",
    "        print('no exchange offer')\n",
    "\n",
    "    try:\n",
    "        print('rating',rating.text)\n",
    "\n",
    "    except:\n",
    "        print('rating None')\n",
    "    \n",
    "    try:\n",
    "        print('review count',reviews.text)\n",
    "\n",
    "    except:\n",
    "        print('review count not available')\n",
    "    print()\n",
    "    "
   ]
  },
  {
   "cell_type": "code",
   "execution_count": 17,
   "metadata": {},
   "outputs": [],
   "source": [
    "data = []\n",
    "for product in items :\n",
    "    name = product.find('div',class_='_4rR01T')\n",
    "    price1= product.find('div',class_='_30jeq3 _1_WHN1')\n",
    "    price2 = product.find('div',class_='_3I9_wc _27UcVY')\n",
    "    exprice = product.find('div',class_='_3xFhiH')\n",
    "    rating =  product.find('div',class_='_3LWZlK')\n",
    "    reviews = product.find('span',class_='_2_R_DZ')\n",
    "    content={}\n",
    "    content['name']= name.text\n",
    "    content['discount_price']= price1.text\n",
    "    \n",
    "    try:\n",
    "        content['original price']=price2.text\n",
    "    except:\n",
    "        content['original price']=None\n",
    "\n",
    "    try:\n",
    "        content['exchnge price']=exprice.text\n",
    "    except:\n",
    "        content['exchnge price']=None\n",
    "    \n",
    "    try:\n",
    "        content['rating']= rating.text\n",
    "    except:\n",
    "        content['rating']=None\n",
    "    try:\n",
    "        content['reviews']= reviews.text\n",
    "    except:\n",
    "        content['reviews']=None\n",
    "\n",
    "data.append(content)"
   ]
  }
 ],
 "metadata": {
  "kernelspec": {
   "display_name": "Python 3.9.12 ('base')",
   "language": "python",
   "name": "python3"
  },
  "language_info": {
   "codemirror_mode": {
    "name": "ipython",
    "version": 3
   },
   "file_extension": ".py",
   "mimetype": "text/x-python",
   "name": "python",
   "nbconvert_exporter": "python",
   "pygments_lexer": "ipython3",
   "version": "3.9.12"
  },
  "orig_nbformat": 4,
  "vscode": {
   "interpreter": {
    "hash": "1dc616534f95709e8384a06e8fb415e5200462b94babbd04eb74177bcd6d173a"
   }
  }
 },
 "nbformat": 4,
 "nbformat_minor": 2
}
