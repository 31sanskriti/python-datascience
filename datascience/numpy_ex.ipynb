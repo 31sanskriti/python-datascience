{
 "cells": [
  {
   "cell_type": "code",
   "execution_count": 92,
   "metadata": {},
   "outputs": [],
   "source": [
    "\n",
    "\n",
    "x= [[1,2],[3,4]]\n",
    "y= [[1,2],[2,3]]\n"
   ]
  },
  {
   "cell_type": "code",
   "execution_count": 93,
   "metadata": {},
   "outputs": [],
   "source": [
    "import numpy as np"
   ]
  },
  {
   "cell_type": "code",
   "execution_count": 94,
   "metadata": {},
   "outputs": [],
   "source": [
    "nx=np.array(x)\n",
    "ny=np.array(y)"
   ]
  },
  {
   "cell_type": "code",
   "execution_count": 95,
   "metadata": {},
   "outputs": [
    {
     "name": "stdout",
     "output_type": "stream",
     "text": [
      "[[1 2]\n",
      " [3 4]]\n",
      "(2, 2)\n"
     ]
    }
   ],
   "source": [
    "print(nx)\n",
    "print(nx.shape)"
   ]
  },
  {
   "cell_type": "code",
   "execution_count": 96,
   "metadata": {},
   "outputs": [
    {
     "data": {
      "text/plain": [
       "array([[2, 4],\n",
       "       [5, 7]])"
      ]
     },
     "execution_count": 96,
     "metadata": {},
     "output_type": "execute_result"
    }
   ],
   "source": [
    "nx + ny #add\n"
   ]
  },
  {
   "cell_type": "code",
   "execution_count": 97,
   "metadata": {},
   "outputs": [
    {
     "data": {
      "text/plain": [
       "array([[0, 0],\n",
       "       [1, 1]])"
      ]
     },
     "execution_count": 97,
     "metadata": {},
     "output_type": "execute_result"
    }
   ],
   "source": [
    "nx-ny #sub\n"
   ]
  },
  {
   "cell_type": "code",
   "execution_count": 98,
   "metadata": {},
   "outputs": [
    {
     "data": {
      "text/plain": [
       "array([[ 1,  4],\n",
       "       [ 6, 12]])"
      ]
     },
     "execution_count": 98,
     "metadata": {},
     "output_type": "execute_result"
    }
   ],
   "source": [
    "nx*ny #element wise multiplication "
   ]
  },
  {
   "cell_type": "code",
   "execution_count": 99,
   "metadata": {},
   "outputs": [
    {
     "data": {
      "text/plain": [
       "array([[ 5,  8],\n",
       "       [11, 18]])"
      ]
     },
     "execution_count": 99,
     "metadata": {},
     "output_type": "execute_result"
    }
   ],
   "source": [
    "np.dot(nx , ny) #matrix mutlipication "
   ]
  },
  {
   "cell_type": "code",
   "execution_count": 100,
   "metadata": {},
   "outputs": [
    {
     "data": {
      "text/plain": [
       "array([[ 5,  8],\n",
       "       [11, 18]])"
      ]
     },
     "execution_count": 100,
     "metadata": {},
     "output_type": "execute_result"
    }
   ],
   "source": [
    "nx @ ny "
   ]
  },
  {
   "cell_type": "code",
   "execution_count": 101,
   "metadata": {},
   "outputs": [
    {
     "data": {
      "text/plain": [
       "array([[6, 7],\n",
       "       [8, 9]])"
      ]
     },
     "execution_count": 101,
     "metadata": {},
     "output_type": "execute_result"
    }
   ],
   "source": [
    "nx + 5 "
   ]
  },
  {
   "cell_type": "code",
   "execution_count": 102,
   "metadata": {},
   "outputs": [
    {
     "name": "stdout",
     "output_type": "stream",
     "text": [
      "[-10.    -9.99  -9.98 ...   9.97   9.98   9.99]\n",
      "(2000,)\n",
      "float64\n"
     ]
    }
   ],
   "source": [
    "a = np.arange(-10,10,.01)\n",
    "print(a)\n",
    "print(a.shape)\n",
    "print(a.dtype)"
   ]
  },
  {
   "cell_type": "code",
   "execution_count": 103,
   "metadata": {},
   "outputs": [
    {
     "name": "stdout",
     "output_type": "stream",
     "text": [
      "[  1   1   1   2   2   3   3   4   4   4   5   5   6   6   7   7   8   8\n",
      "   8   9   9  10  10  11  11  12  12  12  13  13  14  14  15  15  16  16\n",
      "  16  17  17  18  18  19  19  20  20  20  21  21  22  22  23  23  23  24\n",
      "  24  25  25  26  26  27  27  27  28  28  29  29  30  30  31  31  31  32\n",
      "  32  33  33  34  34  35  35  35  36  36  37  37  38  38  39  39  39  40\n",
      "  40  41  41  42  42  42  43  43  44  44  45  45  46  46  46  47  47  48\n",
      "  48  49  49  50  50  50  51  51  52  52  53  53  54  54  54  55  55  56\n",
      "  56  57  57  58  58  58  59  59  60  60  61  61  61  62  62  63  63  64\n",
      "  64  65  65  65  66  66  67  67  68  68  69  69  69  70  70  71  71  72\n",
      "  72  73  73  73  74  74  75  75  76  76  77  77  77  78  78  79  79  80\n",
      "  80  80  81  81  82  82  83  83  84  84  84  85  85  86  86  87  87  88\n",
      "  88  88  89  89  90  90  91  91  92  92  92  93  93  94  94  95  95  96\n",
      "  96  96  97  97  98  98  99  99 100]\n",
      "(225,)\n"
     ]
    },
    {
     "data": {
      "text/plain": [
       "array([[  1,   1,   1,   2,   2,   3,   3,   4,   4,   4,   5,   5,   6,\n",
       "          6,   7],\n",
       "       [  7,   8,   8,   8,   9,   9,  10,  10,  11,  11,  12,  12,  12,\n",
       "         13,  13],\n",
       "       [ 14,  14,  15,  15,  16,  16,  16,  17,  17,  18,  18,  19,  19,\n",
       "         20,  20],\n",
       "       [ 20,  21,  21,  22,  22,  23,  23,  23,  24,  24,  25,  25,  26,\n",
       "         26,  27],\n",
       "       [ 27,  27,  28,  28,  29,  29,  30,  30,  31,  31,  31,  32,  32,\n",
       "         33,  33],\n",
       "       [ 34,  34,  35,  35,  35,  36,  36,  37,  37,  38,  38,  39,  39,\n",
       "         39,  40],\n",
       "       [ 40,  41,  41,  42,  42,  42,  43,  43,  44,  44,  45,  45,  46,\n",
       "         46,  46],\n",
       "       [ 47,  47,  48,  48,  49,  49,  50,  50,  50,  51,  51,  52,  52,\n",
       "         53,  53],\n",
       "       [ 54,  54,  54,  55,  55,  56,  56,  57,  57,  58,  58,  58,  59,\n",
       "         59,  60],\n",
       "       [ 60,  61,  61,  61,  62,  62,  63,  63,  64,  64,  65,  65,  65,\n",
       "         66,  66],\n",
       "       [ 67,  67,  68,  68,  69,  69,  69,  70,  70,  71,  71,  72,  72,\n",
       "         73,  73],\n",
       "       [ 73,  74,  74,  75,  75,  76,  76,  77,  77,  77,  78,  78,  79,\n",
       "         79,  80],\n",
       "       [ 80,  80,  81,  81,  82,  82,  83,  83,  84,  84,  84,  85,  85,\n",
       "         86,  86],\n",
       "       [ 87,  87,  88,  88,  88,  89,  89,  90,  90,  91,  91,  92,  92,\n",
       "         92,  93],\n",
       "       [ 93,  94,  94,  95,  95,  96,  96,  96,  97,  97,  98,  98,  99,\n",
       "         99, 100]])"
      ]
     },
     "execution_count": 103,
     "metadata": {},
     "output_type": "execute_result"
    }
   ],
   "source": [
    "b= np.linspace(1,100,225 , dtype = int)\n",
    "print(b)\n",
    "print(b.shape)\n",
    "b.reshape(15,15)"
   ]
  },
  {
   "cell_type": "code",
   "execution_count": 104,
   "metadata": {},
   "outputs": [
    {
     "data": {
      "text/plain": [
       "array([[52, 89, 92],\n",
       "       [77,  4, 71],\n",
       "       [77, 53, 84]])"
      ]
     },
     "execution_count": 104,
     "metadata": {},
     "output_type": "execute_result"
    }
   ],
   "source": [
    "np.random.randint(1,100, size =(3,3))\n"
   ]
  },
  {
   "cell_type": "code",
   "execution_count": 105,
   "metadata": {},
   "outputs": [
    {
     "name": "stdout",
     "output_type": "stream",
     "text": [
      "[6 1 6 5 8 3 6 4 4 2 5 9 5 2 2 9 4 2 2 9 7 9 6 8 1 6 5 7 8 3 4 3 6 8 3 2 2\n",
      " 9 7 5 5 4 5 5 5 9 5 7 5 1 4 2 1 5 7 3 8 4 8 3 1 9 2 3 5 6 5 8 8 5 9 4 9 8\n",
      " 6 2 1 4 5 8 6 2 3 1 5 9 1 3 8 4 9 3 9 4 4 1 7 3 8 7]\n",
      "first element: 6\n",
      "last element: 7\n",
      "first 6 element: [6 1 6 5 8 3]\n",
      "last 6 element: [4 1 7 3 8 7]\n"
     ]
    }
   ],
   "source": [
    "x = np.random.randint(1,10,100)\n",
    "print(x)\n",
    "print('first element:', x[0])\n",
    "print('last element:', x[-1])\n",
    "print('first 6 element:', x[:6])\n",
    "print('last 6 element:', x[-6:])"
   ]
  },
  {
   "cell_type": "code",
   "execution_count": 106,
   "metadata": {},
   "outputs": [
    {
     "name": "stdout",
     "output_type": "stream",
     "text": [
      "[[6 1 6 5 8 3 6 4 4 2]\n",
      " [5 9 5 2 2 9 4 2 2 9]\n",
      " [7 9 6 8 1 6 5 7 8 3]\n",
      " [4 3 6 8 3 2 2 9 7 5]\n",
      " [5 4 5 5 5 9 5 7 5 1]\n",
      " [4 2 1 5 7 3 8 4 8 3]\n",
      " [1 9 2 3 5 6 5 8 8 5]\n",
      " [9 4 9 8 6 2 1 4 5 8]\n",
      " [6 2 3 1 5 9 1 3 8 4]\n",
      " [9 3 9 4 4 1 7 3 8 7]]\n",
      "first element: 6 or 6\n",
      "last element: 7 or 7\n",
      "first row: [6 1 6 5 8 3 6 4 4 2]\n",
      "last row: [9 3 9 4 4 1 7 3 8 7]\n",
      "first column: [6 5 7 4 5 4 1 9 6 9]\n",
      "last row: [2 9 3 5 1 3 5 8 4 7]\n",
      "3rd row: [7 9 6 8 1 6 5 7 8 3]\n",
      "3rd column: [6 5 6 6 5 1 2 9 3 9]\n",
      "first 3 rows and 3 cols: [[6 1 6]\n",
      " [5 9 5]\n",
      " [7 9 6]]\n"
     ]
    }
   ],
   "source": [
    "x2 = x.reshape(10,10)\n",
    "print(x2)\n",
    "print('first element:' , x2[0,0],'or',x2[0][0])\n",
    "print('last element:' , x2[-1,-1],'or',x2[-1][-1])\n",
    "print('first row:',x2[0])\n",
    "print('last row:',x2[-1])\n",
    "print('first column:',x2[:,0])\n",
    "print('last row:',x2[:,-1])\n",
    "print('3rd row:',x2[2])\n",
    "print('3rd column:',x2[:,2])\n",
    "print('first 3 rows and 3 cols:',x2[:3,:3])"
   ]
  },
  {
   "cell_type": "code",
   "execution_count": 107,
   "metadata": {},
   "outputs": [
    {
     "name": "stdout",
     "output_type": "stream",
     "text": [
      "[[801 702 624 237 553 669 448 697 788 843]\n",
      " [953 910 667 783 941 941 684 892 418 610]\n",
      " [894  59 641 406 556 729 737 530 694 239]\n",
      " [987 695 963 247 465 414 890 774 910 967]\n",
      " [894 506 464  87 716 735 878 609 691 394]\n",
      " [813 421 555 595 221 797 731 583 554 130]\n",
      " [594 200  88 843  36 350 597  88 787 338]\n",
      " [637   1 695 367 556 283 552 124 463  10]\n",
      " [319 349 118 391 542 714 146 771 876 740]\n",
      " [438 530 271 494 532   5 294 910 370  99]]\n"
     ]
    },
    {
     "data": {
      "text/plain": [
       "array([237, 448, 418,  59, 406, 239, 247, 465, 414, 464,  87, 394, 421,\n",
       "       221, 130, 200,  88,  36, 350,  88, 338,   1, 367, 283, 124, 463,\n",
       "        10, 319, 349, 118, 391, 146, 438, 271, 494,   5, 294, 370,  99])"
      ]
     },
     "execution_count": 107,
     "metadata": {},
     "output_type": "execute_result"
    }
   ],
   "source": [
    "y = np.random.randint(1,1000,(10,10))\n",
    "print(y)\n",
    "y[y<500] #boolean indexing and filtering "
   ]
  },
  {
   "cell_type": "code",
   "execution_count": 108,
   "metadata": {},
   "outputs": [
    {
     "data": {
      "text/plain": [
       "array([702, 624, 553, 669, 448, 697, 667, 684, 418, 610, 641, 406, 556,\n",
       "       729, 737, 530, 694, 695, 465, 414, 506, 464, 716, 735, 609, 691,\n",
       "       394, 421, 555, 595, 731, 583, 554, 594, 350, 597, 338, 637, 695,\n",
       "       367, 556, 283, 552, 463, 319, 349, 391, 542, 714, 740, 438, 530,\n",
       "       271, 494, 532, 294, 370])"
      ]
     },
     "execution_count": 108,
     "metadata": {},
     "output_type": "execute_result"
    }
   ],
   "source": [
    "y [(y > 250) & (y<750)] #bitwise and is used "
   ]
  },
  {
   "cell_type": "code",
   "execution_count": 109,
   "metadata": {},
   "outputs": [
    {
     "name": "stdout",
     "output_type": "stream",
     "text": [
      "sum of all the value: 54850\n",
      "sum of each row: [6362 7799 5485 7312 5974 5400 3921 3688 4966 3943]\n",
      "sum of each columns: [7330 4373 5086 4450 5118 5637 5957 5978 6551 4370]\n",
      "mean of all the value: 548.5\n",
      "mean of each row: [636.2 779.9 548.5 731.2 597.4 540.  392.1 368.8 496.6 394.3]\n",
      "mean of each columns : [733.  437.3 508.6 445.  511.8 563.7 595.7 597.8 655.1 437. ]\n",
      "------------------\n",
      "standard deviation of all values: 269.04053597924604\n",
      "standard deviation of each row: [174.33347355 171.21708443 239.43986719 253.1844387  231.65327539\n",
      " 215.95740321 282.0224991  242.30633504 256.62119944 240.7866483 ]\n",
      "standard deviation of col: [215.11392331 277.68257057 262.1507963  227.75030187 233.66120773\n",
      " 273.15674987 230.07696538 272.80608498 183.37254429 317.67121368]\n",
      "----------------\n",
      "min and max of all values: 1 987\n",
      "min and max of each row: [237 418  59 247  87 130  36   1 118   5] [843 953 894 987 894 813 843 695 876 910]\n",
      "min and max of col: [319   1  88  87  36   5 146  88 370  10] [987 910 963 843 941 941 890 910 910 967]\n"
     ]
    }
   ],
   "source": [
    "print('sum of all the value:',y.sum())\n",
    "print('sum of each row:',y.sum(axis=1))\n",
    "print('sum of each columns:',y.sum(axis =0))\n",
    "print('mean of all the value:',y.mean())\n",
    "print('mean of each row:',y.mean(axis=1))\n",
    "print('mean of each columns :',y.mean(axis=0))\n",
    "print('------------------')\n",
    "print('standard deviation of all values:',y.std())\n",
    "print('standard deviation of each row:',y.std(axis=1))\n",
    "print('standard deviation of col:',y.std(axis=0))\n",
    "print('----------------')\n",
    "print('min and max of all values:',y.min(), y.max())\n",
    "print('min and max of each row:',y.min(axis=1),y.max(axis=1))\n",
    "print('min and max of col:',y.min(axis=0),y.max(axis=0))"
   ]
  },
  {
   "cell_type": "code",
   "execution_count": 110,
   "metadata": {},
   "outputs": [],
   "source": [
    "import matplotlib.pyplot as plt\n"
   ]
  },
  {
   "cell_type": "code",
   "execution_count": 111,
   "metadata": {},
   "outputs": [
    {
     "name": "stdout",
     "output_type": "stream",
     "text": [
      "['Solarize_Light2', '_classic_test_patch', '_mpl-gallery', '_mpl-gallery-nogrid', 'bmh', 'classic', 'dark_background', 'fast', 'fivethirtyeight', 'ggplot', 'grayscale', 'seaborn-v0_8', 'seaborn-v0_8-bright', 'seaborn-v0_8-colorblind', 'seaborn-v0_8-dark', 'seaborn-v0_8-dark-palette', 'seaborn-v0_8-darkgrid', 'seaborn-v0_8-deep', 'seaborn-v0_8-muted', 'seaborn-v0_8-notebook', 'seaborn-v0_8-paper', 'seaborn-v0_8-pastel', 'seaborn-v0_8-poster', 'seaborn-v0_8-talk', 'seaborn-v0_8-ticks', 'seaborn-v0_8-white', 'seaborn-v0_8-whitegrid', 'tableau-colorblind10']\n"
     ]
    }
   ],
   "source": [
    "print(plt.style.available)\n",
    "plt.style.use('dark_background')"
   ]
  },
  {
   "cell_type": "code",
   "execution_count": 116,
   "metadata": {},
   "outputs": [
    {
     "name": "stderr",
     "output_type": "stream",
     "text": [
      "No artists with labels found to put in legend.  Note that artists whose label start with an underscore are ignored when legend() is called with no argument.\n"
     ]
    },
    {
     "data": {
      "text/plain": [
       "<matplotlib.legend.Legend at 0x1300e478>"
      ]
     },
     "execution_count": 116,
     "metadata": {},
     "output_type": "execute_result"
    },
    {
     "data": {
      "image/png": "[encoded data removed]",
      "text/plain": [
       "<Figure size 1440x720 with 1 Axes>"
      ]
     },
     "metadata": {},
     "output_type": "display_data"
    }
   ],
   "source": [
    "plt.figure(figsize=(20,10))\n",
    "t = np.linspace(0,4*np.pi, 100)\n",
    "y= np.sin(t)\n",
    "x = np.cos(t)\n",
    "#z = np.tan(t)\n",
    "plt.plot(t,y , color= 'yellow' , linewidth = 3)\n",
    "plt.plot(t,x , color = 'hotpink' , linewidth = 2)\n",
    "#plt.plot(t,z , color ='green' , linewidth = 3)\n",
    "plt.text(10,0.5 , 'sin(t)' , fontsize =30)\n",
    "plt.text(5.3,0.5 , 'cos(t)' , fontsize =30)\n",
    "plt.legend()\n"
   ]
  }
 ],
 "metadata": {
  "kernelspec": {
   "display_name": "Python 3.9.12 ('base')",
   "language": "python",
   "name": "python3"
  },
  "language_info": {
   "codemirror_mode": {
    "name": "ipython",
    "version": 3
   },
   "file_extension": ".py",
   "mimetype": "text/x-python",
   "name": "python",
   "nbconvert_exporter": "python",
   "pygments_lexer": "ipython3",
   "version": "3.9.12"
  },
  "orig_nbformat": 4,
  "vscode": {
   "interpreter": {
    "hash": "1dc616534f95709e8384a06e8fb415e5200462b94babbd04eb74177bcd6d173a"
   }
  }
 },
 "nbformat": 4,
 "nbformat_minor": 2
}
