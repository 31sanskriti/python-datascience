{
 "cells": [
  {
   "cell_type": "code",
   "execution_count": 34,
   "metadata": {},
   "outputs": [],
   "source": [
    "\n",
    "\n",
    "x= [[1,2],[3,4]]\n",
    "y= [[1,2],[2,3]]\n"
   ]
  },
  {
   "cell_type": "code",
   "execution_count": 35,
   "metadata": {},
   "outputs": [],
   "source": [
    "import numpy as np"
   ]
  },
  {
   "cell_type": "code",
   "execution_count": 36,
   "metadata": {},
   "outputs": [],
   "source": [
    "nx=np.array(x)\n",
    "ny=np.array(y)"
   ]
  },
  {
   "cell_type": "code",
   "execution_count": 37,
   "metadata": {},
   "outputs": [
    {
     "name": "stdout",
     "output_type": "stream",
     "text": [
      "[[1 2]\n",
      " [3 4]]\n",
      "(2, 2)\n"
     ]
    }
   ],
   "source": [
    "print(nx)\n",
    "print(nx.shape)"
   ]
  },
  {
   "cell_type": "code",
   "execution_count": 38,
   "metadata": {},
   "outputs": [
    {
     "data": {
      "text/plain": [
       "array([[2, 4],\n",
       "       [5, 7]])"
      ]
     },
     "execution_count": 38,
     "metadata": {},
     "output_type": "execute_result"
    }
   ],
   "source": [
    "nx + ny #add\n"
   ]
  },
  {
   "cell_type": "code",
   "execution_count": 39,
   "metadata": {},
   "outputs": [
    {
     "data": {
      "text/plain": [
       "array([[0, 0],\n",
       "       [1, 1]])"
      ]
     },
     "execution_count": 39,
     "metadata": {},
     "output_type": "execute_result"
    }
   ],
   "source": [
    "nx-ny #sub\n"
   ]
  },
  {
   "cell_type": "code",
   "execution_count": 40,
   "metadata": {},
   "outputs": [
    {
     "data": {
      "text/plain": [
       "array([[ 1,  4],\n",
       "       [ 6, 12]])"
      ]
     },
     "execution_count": 40,
     "metadata": {},
     "output_type": "execute_result"
    }
   ],
   "source": [
    "nx*ny #element wise multiplication "
   ]
  },
  {
   "cell_type": "code",
   "execution_count": 41,
   "metadata": {},
   "outputs": [
    {
     "data": {
      "text/plain": [
       "array([[ 5,  8],\n",
       "       [11, 18]])"
      ]
     },
     "execution_count": 41,
     "metadata": {},
     "output_type": "execute_result"
    }
   ],
   "source": [
    "np.dot(nx , ny) #matrix mutlipication "
   ]
  },
  {
   "cell_type": "code",
   "execution_count": 42,
   "metadata": {},
   "outputs": [
    {
     "data": {
      "text/plain": [
       "array([[ 5,  8],\n",
       "       [11, 18]])"
      ]
     },
     "execution_count": 42,
     "metadata": {},
     "output_type": "execute_result"
    }
   ],
   "source": [
    "nx @ ny "
   ]
  },
  {
   "cell_type": "code",
   "execution_count": 43,
   "metadata": {},
   "outputs": [
    {
     "data": {
      "text/plain": [
       "array([[6, 7],\n",
       "       [8, 9]])"
      ]
     },
     "execution_count": 43,
     "metadata": {},
     "output_type": "execute_result"
    }
   ],
   "source": [
    "nx + 5 "
   ]
  },
  {
   "cell_type": "code",
   "execution_count": 44,
   "metadata": {},
   "outputs": [
    {
     "name": "stdout",
     "output_type": "stream",
     "text": [
      "[-10.    -9.99  -9.98 ...   9.97   9.98   9.99]\n",
      "(2000,)\n",
      "float64\n"
     ]
    }
   ],
   "source": [
    "a = np.arange(-10,10,.01)\n",
    "print(a)\n",
    "print(a.shape)\n",
    "print(a.dtype)"
   ]
  },
  {
   "cell_type": "code",
   "execution_count": 45,
   "metadata": {},
   "outputs": [
    {
     "name": "stdout",
     "output_type": "stream",
     "text": [
      "[  1   1   1   2   2   3   3   4   4   4   5   5   6   6   7   7   8   8\n",
      "   8   9   9  10  10  11  11  12  12  12  13  13  14  14  15  15  16  16\n",
      "  16  17  17  18  18  19  19  20  20  20  21  21  22  22  23  23  23  24\n",
      "  24  25  25  26  26  27  27  27  28  28  29  29  30  30  31  31  31  32\n",
      "  32  33  33  34  34  35  35  35  36  36  37  37  38  38  39  39  39  40\n",
      "  40  41  41  42  42  42  43  43  44  44  45  45  46  46  46  47  47  48\n",
      "  48  49  49  50  50  50  51  51  52  52  53  53  54  54  54  55  55  56\n",
      "  56  57  57  58  58  58  59  59  60  60  61  61  61  62  62  63  63  64\n",
      "  64  65  65  65  66  66  67  67  68  68  69  69  69  70  70  71  71  72\n",
      "  72  73  73  73  74  74  75  75  76  76  77  77  77  78  78  79  79  80\n",
      "  80  80  81  81  82  82  83  83  84  84  84  85  85  86  86  87  87  88\n",
      "  88  88  89  89  90  90  91  91  92  92  92  93  93  94  94  95  95  96\n",
      "  96  96  97  97  98  98  99  99 100]\n",
      "(225,)\n"
     ]
    },
    {
     "data": {
      "text/plain": [
       "array([[  1,   1,   1,   2,   2,   3,   3,   4,   4,   4,   5,   5,   6,\n",
       "          6,   7],\n",
       "       [  7,   8,   8,   8,   9,   9,  10,  10,  11,  11,  12,  12,  12,\n",
       "         13,  13],\n",
       "       [ 14,  14,  15,  15,  16,  16,  16,  17,  17,  18,  18,  19,  19,\n",
       "         20,  20],\n",
       "       [ 20,  21,  21,  22,  22,  23,  23,  23,  24,  24,  25,  25,  26,\n",
       "         26,  27],\n",
       "       [ 27,  27,  28,  28,  29,  29,  30,  30,  31,  31,  31,  32,  32,\n",
       "         33,  33],\n",
       "       [ 34,  34,  35,  35,  35,  36,  36,  37,  37,  38,  38,  39,  39,\n",
       "         39,  40],\n",
       "       [ 40,  41,  41,  42,  42,  42,  43,  43,  44,  44,  45,  45,  46,\n",
       "         46,  46],\n",
       "       [ 47,  47,  48,  48,  49,  49,  50,  50,  50,  51,  51,  52,  52,\n",
       "         53,  53],\n",
       "       [ 54,  54,  54,  55,  55,  56,  56,  57,  57,  58,  58,  58,  59,\n",
       "         59,  60],\n",
       "       [ 60,  61,  61,  61,  62,  62,  63,  63,  64,  64,  65,  65,  65,\n",
       "         66,  66],\n",
       "       [ 67,  67,  68,  68,  69,  69,  69,  70,  70,  71,  71,  72,  72,\n",
       "         73,  73],\n",
       "       [ 73,  74,  74,  75,  75,  76,  76,  77,  77,  77,  78,  78,  79,\n",
       "         79,  80],\n",
       "       [ 80,  80,  81,  81,  82,  82,  83,  83,  84,  84,  84,  85,  85,\n",
       "         86,  86],\n",
       "       [ 87,  87,  88,  88,  88,  89,  89,  90,  90,  91,  91,  92,  92,\n",
       "         92,  93],\n",
       "       [ 93,  94,  94,  95,  95,  96,  96,  96,  97,  97,  98,  98,  99,\n",
       "         99, 100]])"
      ]
     },
     "execution_count": 45,
     "metadata": {},
     "output_type": "execute_result"
    }
   ],
   "source": [
    "b= np.linspace(1,100,225 , dtype = int)\n",
    "print(b)\n",
    "print(b.shape)\n",
    "b.reshape(15,15)"
   ]
  },
  {
   "cell_type": "code",
   "execution_count": 46,
   "metadata": {},
   "outputs": [
    {
     "data": {
      "text/plain": [
       "array([[98, 92, 39],\n",
       "       [73, 50, 57],\n",
       "       [70, 33, 77]])"
      ]
     },
     "execution_count": 46,
     "metadata": {},
     "output_type": "execute_result"
    }
   ],
   "source": [
    "np.random.randint(1,100, size =(3,3))\n"
   ]
  },
  {
   "cell_type": "code",
   "execution_count": 47,
   "metadata": {},
   "outputs": [
    {
     "name": "stdout",
     "output_type": "stream",
     "text": [
      "[3 6 8 4 4 9 7 1 9 3 3 3 4 2 6 2 7 2 1 7 4 8 4 5 5 3 5 1 5 8 5 3 8 4 8 7 8\n",
      " 7 9 6 6 3 1 4 4 2 2 3 3 4 4 6 9 4 9 9 5 3 4 7 4 4 9 5 4 2 7 8 6 8 3 6 7 9\n",
      " 1 3 6 3 3 5 2 8 3 6 4 5 3 4 8 6 7 2 9 7 6 4 8 4 2 7]\n",
      "first element: 3\n",
      "last element: 7\n",
      "first 6 element: [3 6 8 4 4 9]\n",
      "last 6 element: [6 4 8 4 2 7]\n"
     ]
    }
   ],
   "source": [
    "x = np.random.randint(1,10,100)\n",
    "print(x)\n",
    "print('first element:', x[0])\n",
    "print('last element:', x[-1])\n",
    "print('first 6 element:', x[:6])\n",
    "print('last 6 element:', x[-6:])"
   ]
  },
  {
   "cell_type": "code",
   "execution_count": 48,
   "metadata": {},
   "outputs": [
    {
     "name": "stdout",
     "output_type": "stream",
     "text": [
      "[[3 6 8 4 4 9 7 1 9 3]\n",
      " [3 3 4 2 6 2 7 2 1 7]\n",
      " [4 8 4 5 5 3 5 1 5 8]\n",
      " [5 3 8 4 8 7 8 7 9 6]\n",
      " [6 3 1 4 4 2 2 3 3 4]\n",
      " [4 6 9 4 9 9 5 3 4 7]\n",
      " [4 4 9 5 4 2 7 8 6 8]\n",
      " [3 6 7 9 1 3 6 3 3 5]\n",
      " [2 8 3 6 4 5 3 4 8 6]\n",
      " [7 2 9 7 6 4 8 4 2 7]]\n",
      "first element: 3 or 3\n",
      "last element: 7 or 7\n",
      "first row: [3 6 8 4 4 9 7 1 9 3]\n",
      "last row: [7 2 9 7 6 4 8 4 2 7]\n",
      "first column: [3 3 4 5 6 4 4 3 2 7]\n",
      "last row: [3 7 8 6 4 7 8 5 6 7]\n",
      "3rd row: [4 8 4 5 5 3 5 1 5 8]\n",
      "3rd column: [8 4 4 8 1 9 9 7 3 9]\n",
      "first 3 rows and 3 cols: [[3 6 8]\n",
      " [3 3 4]\n",
      " [4 8 4]]\n"
     ]
    }
   ],
   "source": [
    "x2 = x.reshape(10,10)\n",
    "print(x2)\n",
    "print('first element:' , x2[0,0],'or',x2[0][0])\n",
    "print('last element:' , x2[-1,-1],'or',x2[-1][-1])\n",
    "print('first row:',x2[0])\n",
    "print('last row:',x2[-1])\n",
    "print('first column:',x2[:,0])\n",
    "print('last row:',x2[:,-1])\n",
    "print('3rd row:',x2[2])\n",
    "print('3rd column:',x2[:,2])\n",
    "print('first 3 rows and 3 cols:',x2[:3,:3])"
   ]
  },
  {
   "cell_type": "code",
   "execution_count": 49,
   "metadata": {},
   "outputs": [
    {
     "name": "stdout",
     "output_type": "stream",
     "text": [
      "[[370 386 518 978 292 203 715 160  40 503]\n",
      " [331 514 395  76 951 381 115 225 964  43]\n",
      " [444 320 374 808 474 830 121 716 457 316]\n",
      " [184 907 923 861 300 603 204 882 387 550]\n",
      " [824 497 885  43 332 159  87 599 567 529]\n",
      " [791 682 584  65 175 366 569 235 279 884]\n",
      " [ 11 421 365 718 421 361 495 566 264 846]\n",
      " [ 48 978 166  41 473 529 339 831 424 989]\n",
      " [437 507 734 324 423  95  73 298 374 669]\n",
      " [405 147 870 407 869 773 630 415 218 845]]\n"
     ]
    },
    {
     "data": {
      "text/plain": [
       "array([370, 386, 292, 203, 160,  40, 331, 395,  76, 381, 115, 225,  43,\n",
       "       444, 320, 374, 474, 121, 457, 316, 184, 300, 204, 387, 497,  43,\n",
       "       332, 159,  87,  65, 175, 366, 235, 279,  11, 421, 365, 421, 361,\n",
       "       495, 264,  48, 166,  41, 473, 339, 424, 437, 324, 423,  95,  73,\n",
       "       298, 374, 405, 147, 407, 415, 218])"
      ]
     },
     "execution_count": 49,
     "metadata": {},
     "output_type": "execute_result"
    }
   ],
   "source": [
    "y = np.random.randint(1,1000,(10,10))\n",
    "print(y)\n",
    "y[y<500] #boolean indexing and filtering "
   ]
  },
  {
   "cell_type": "code",
   "execution_count": 50,
   "metadata": {},
   "outputs": [
    {
     "data": {
      "text/plain": [
       "array([370, 386, 518, 292, 715, 503, 331, 514, 395, 381, 444, 320, 374,\n",
       "       474, 716, 457, 316, 300, 603, 387, 550, 497, 332, 599, 567, 529,\n",
       "       682, 584, 366, 569, 279, 421, 365, 718, 421, 361, 495, 566, 264,\n",
       "       473, 529, 339, 424, 437, 507, 734, 324, 423, 298, 374, 669, 405,\n",
       "       407, 630, 415])"
      ]
     },
     "execution_count": 50,
     "metadata": {},
     "output_type": "execute_result"
    }
   ],
   "source": [
    "y [(y > 250) & (y<750)] #bitwise and is used "
   ]
  },
  {
   "cell_type": "code",
   "execution_count": 51,
   "metadata": {},
   "outputs": [
    {
     "name": "stdout",
     "output_type": "stream",
     "text": [
      "sum of all the value: 46772\n",
      "sum of each row: [4165 3995 4860 5801 4522 4630 4468 4818 3934 5579]\n",
      "sum of each columns: [3845 5359 5814 4321 4710 4300 3348 4927 3974 6174]\n",
      "mean of all the value: 467.72\n",
      "mean of each row: [416.5 399.5 486.  580.1 452.2 463.  446.8 481.8 393.4 557.9]\n",
      "mean of each columns : [384.5 535.9 581.4 432.1 471.  430.  334.8 492.7 397.4 617.4]\n",
      "------------------\n",
      "standard deviation of all values: 273.7704907399627\n",
      "standard deviation of each row: [263.41763419 313.70567416 219.06483059 284.60725571 277.38341695\n",
      " 263.67783373 220.94424636 336.69891595 203.38102173 260.58067849]\n",
      "standard deviation of col: [257.12380287 243.07795046 248.31681377 358.22407792 237.03164346\n",
      " 237.87223461 235.22363827 250.04881523 233.76235796 276.06274649]\n",
      "----------------\n",
      "min and max of all values: 11 989\n",
      "min and max of each row: [ 40  43 121 184  43  65  11  41  73 147] [978 964 830 923 885 884 846 989 734 870]\n",
      "min and max of col: [ 11 147 166  41 175  95  73 160  40  43] [824 978 923 978 951 830 715 882 964 989]\n"
     ]
    }
   ],
   "source": [
    "print('sum of all the value:',y.sum())\n",
    "print('sum of each row:',y.sum(axis=1))\n",
    "print('sum of each columns:',y.sum(axis =0))\n",
    "print('mean of all the value:',y.mean())\n",
    "print('mean of each row:',y.mean(axis=1))\n",
    "print('mean of each columns :',y.mean(axis=0))\n",
    "print('------------------')\n",
    "print('standard deviation of all values:',y.std())\n",
    "print('standard deviation of each row:',y.std(axis=1))\n",
    "print('standard deviation of col:',y.std(axis=0))\n",
    "print('----------------')\n",
    "print('min and max of all values:',y.min(), y.max())\n",
    "print('min and max of each row:',y.min(axis=1),y.max(axis=1))\n",
    "print('min and max of col:',y.min(axis=0),y.max(axis=0))"
   ]
  },
  {
   "cell_type": "code",
   "execution_count": 52,
   "metadata": {},
   "outputs": [],
   "source": [
    "import matplotlib.pyplot as plt\n"
   ]
  },
  {
   "cell_type": "code",
   "execution_count": 53,
   "metadata": {},
   "outputs": [
    {
     "name": "stdout",
     "output_type": "stream",
     "text": [
      "['Solarize_Light2', '_classic_test_patch', '_mpl-gallery', '_mpl-gallery-nogrid', 'bmh', 'classic', 'dark_background', 'fast', 'fivethirtyeight', 'ggplot', 'grayscale', 'seaborn-v0_8', 'seaborn-v0_8-bright', 'seaborn-v0_8-colorblind', 'seaborn-v0_8-dark', 'seaborn-v0_8-dark-palette', 'seaborn-v0_8-darkgrid', 'seaborn-v0_8-deep', 'seaborn-v0_8-muted', 'seaborn-v0_8-notebook', 'seaborn-v0_8-paper', 'seaborn-v0_8-pastel', 'seaborn-v0_8-poster', 'seaborn-v0_8-talk', 'seaborn-v0_8-ticks', 'seaborn-v0_8-white', 'seaborn-v0_8-whitegrid', 'tableau-colorblind10']\n"
     ]
    }
   ],
   "source": [
    "print(plt.style.available)\n",
    "plt.style.use('dark_background')"
   ]
  },
  {
   "cell_type": "code",
   "execution_count": 54,
   "metadata": {},
   "outputs": [
    {
     "data": {
      "text/plain": [
       "[<matplotlib.lines.Line2D at 0x5795e20>]"
      ]
     },
     "execution_count": 54,
     "metadata": {},
     "output_type": "execute_result"
    },
    {
     "data": {
      "image/png": "[encoded data removed]",
      "text/plain": [
       "<Figure size 1440x720 with 1 Axes>"
      ]
     },
     "metadata": {},
     "output_type": "display_data"
    }
   ],
   "source": [
    "plt.figure(figsize=(20,10))\n",
    "t = np.linspace(0,4*np.pi, 100)\n",
    "y= np.sin(t)\n",
    "x = np.cos(t)\n",
    "z = np.tan(t)\n",
    "plt.plot(t,y)\n",
    "plt.plot(t,x)\n",
    "plt.plot(t,z)"
   ]
  }
 ],
 "metadata": {
  "kernelspec": {
   "display_name": "Python 3.9.12 ('base')",
   "language": "python",
   "name": "python3"
  },
  "language_info": {
   "codemirror_mode": {
    "name": "ipython",
    "version": 3
   },
   "file_extension": ".py",
   "mimetype": "text/x-python",
   "name": "python",
   "nbconvert_exporter": "python",
   "pygments_lexer": "ipython3",
   "version": "3.9.12"
  },
  "orig_nbformat": 4,
  "vscode": {
   "interpreter": {
    "hash": "1dc616534f95709e8384a06e8fb415e5200462b94babbd04eb74177bcd6d173a"
   }
  }
 },
 "nbformat": 4,
 "nbformat_minor": 2
}
